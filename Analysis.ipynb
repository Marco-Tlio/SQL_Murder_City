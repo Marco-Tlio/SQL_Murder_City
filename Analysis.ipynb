{
 "cells": [
  {
   "cell_type": "markdown",
   "metadata": {},
   "source": [
    "# Conecting & Configuring the SQLite"
   ]
  },
  {
   "cell_type": "code",
   "execution_count": 1,
   "metadata": {},
   "outputs": [],
   "source": [
    "%load_ext sql\n"
   ]
  },
  {
   "cell_type": "code",
   "execution_count": 2,
   "metadata": {},
   "outputs": [],
   "source": [
    "from sqlalchemy import create_engine\n",
    "\n",
    "engine = create_engine('sqlite://'+'/data/sql-murder-mystery.db')"
   ]
  },
  {
   "cell_type": "code",
   "execution_count": 3,
   "metadata": {},
   "outputs": [],
   "source": [
    "%sql engine"
   ]
  },
  {
   "cell_type": "markdown",
   "metadata": {},
   "source": [
    "# Analysis"
   ]
  },
  {
   "cell_type": "markdown",
   "metadata": {},
   "source": [
    "## Searching for the city and the crime"
   ]
  },
  {
   "cell_type": "code",
   "execution_count": 4,
   "metadata": {},
   "outputs": [
    {
     "data": {
      "text/html": [
       "<span style=\"None\">Running query in &#x27;sqlite:///data/sql-murder-mystery.db&#x27;</span>"
      ],
      "text/plain": [
       "Running query in 'sqlite:///data/sql-murder-mystery.db'"
      ]
     },
     "metadata": {},
     "output_type": "display_data"
    },
    {
     "data": {
      "text/html": [
       "<table>\n",
       "    <thead>\n",
       "        <tr>\n",
       "            <th>city</th>\n",
       "            <th>crimes_committed</th>\n",
       "        </tr>\n",
       "    </thead>\n",
       "    <tbody>\n",
       "        <tr>\n",
       "            <td>SQL City</td>\n",
       "            <td>9</td>\n",
       "        </tr>\n",
       "        <tr>\n",
       "            <td>Murfreesboro</td>\n",
       "            <td>9</td>\n",
       "        </tr>\n",
       "        <tr>\n",
       "            <td>Toledo</td>\n",
       "            <td>8</td>\n",
       "        </tr>\n",
       "        <tr>\n",
       "            <td>Jersey City</td>\n",
       "            <td>8</td>\n",
       "        </tr>\n",
       "        <tr>\n",
       "            <td>Evansville</td>\n",
       "            <td>8</td>\n",
       "        </tr>\n",
       "    </tbody>\n",
       "</table>"
      ],
      "text/plain": [
       "+--------------+------------------+\n",
       "|     city     | crimes_committed |\n",
       "+--------------+------------------+\n",
       "|   SQL City   |        9         |\n",
       "| Murfreesboro |        9         |\n",
       "|    Toledo    |        8         |\n",
       "| Jersey City  |        8         |\n",
       "|  Evansville  |        8         |\n",
       "+--------------+------------------+"
      ]
     },
     "execution_count": 4,
     "metadata": {},
     "output_type": "execute_result"
    }
   ],
   "source": [
    "%%sql\n",
    "SELECT city,\n",
    "COUNT(city) AS crimes_committed\n",
    "FROM crime_scene_report\n",
    "GROUP BY city\n",
    "ORDER BY COUNT(city) DESC\n",
    "LIMIT 5;"
   ]
  },
  {
   "cell_type": "code",
   "execution_count": 5,
   "metadata": {},
   "outputs": [
    {
     "data": {
      "text/html": [
       "<span style=\"None\">Running query in &#x27;sqlite:///data/sql-murder-mystery.db&#x27;</span>"
      ],
      "text/plain": [
       "Running query in 'sqlite:///data/sql-murder-mystery.db'"
      ]
     },
     "metadata": {},
     "output_type": "display_data"
    },
    {
     "data": {
      "text/html": [
       "<table>\n",
       "    <thead>\n",
       "        <tr>\n",
       "            <th>date</th>\n",
       "            <th>description</th>\n",
       "        </tr>\n",
       "    </thead>\n",
       "    <tbody>\n",
       "        <tr>\n",
       "            <td>20180215</td>\n",
       "            <td>REDACTED REDACTED REDACTED</td>\n",
       "        </tr>\n",
       "        <tr>\n",
       "            <td>20180215</td>\n",
       "            <td>Someone killed the guard! He took an arrow to the knee!</td>\n",
       "        </tr>\n",
       "        <tr>\n",
       "            <td>20180115</td>\n",
       "            <td>Security footage shows that there were 2 witnesses. The first witness lives at the last house on \"Northwestern Dr\". The second witness, named Annabel, lives somewhere on \"Franklin Ave\".</td>\n",
       "        </tr>\n",
       "    </tbody>\n",
       "</table>"
      ],
      "text/plain": [
       "+----------+-------------------------------------------------------------------------------------------------------------------------------------------------------------------------------------------+\n",
       "|   date   |                                                                                        description                                                                                        |\n",
       "+----------+-------------------------------------------------------------------------------------------------------------------------------------------------------------------------------------------+\n",
       "| 20180215 |                                                                                 REDACTED REDACTED REDACTED                                                                                |\n",
       "| 20180215 |                                                                  Someone killed the guard! He took an arrow to the knee!                                                                  |\n",
       "| 20180115 | Security footage shows that there were 2 witnesses. The first witness lives at the last house on \"Northwestern Dr\". The second witness, named Annabel, lives somewhere on \"Franklin Ave\". |\n",
       "+----------+-------------------------------------------------------------------------------------------------------------------------------------------------------------------------------------------+"
      ]
     },
     "execution_count": 5,
     "metadata": {},
     "output_type": "execute_result"
    }
   ],
   "source": [
    "%%sql\n",
    "SELECT date,\n",
    "description\n",
    "FROM crime_scene_report\n",
    "WHERE city='SQL City' AND\n",
    "type = 'murder';"
   ]
  },
  {
   "cell_type": "code",
   "execution_count": 6,
   "metadata": {},
   "outputs": [
    {
     "data": {
      "text/html": [
       "<span style=\"None\">Running query in &#x27;sqlite:///data/sql-murder-mystery.db&#x27;</span>"
      ],
      "text/plain": [
       "Running query in 'sqlite:///data/sql-murder-mystery.db'"
      ]
     },
     "metadata": {},
     "output_type": "display_data"
    },
    {
     "data": {
      "text/html": [
       "<table>\n",
       "    <thead>\n",
       "        <tr>\n",
       "            <th>formatted_date</th>\n",
       "            <th>description</th>\n",
       "        </tr>\n",
       "    </thead>\n",
       "    <tbody>\n",
       "        <tr>\n",
       "            <td>2018-01-15</td>\n",
       "            <td>Security footage shows that there were 2 witnesses. The first witness lives at the last house on \"Northwestern Dr\". The second witness, named Annabel, lives somewhere on \"Franklin Ave\".</td>\n",
       "        </tr>\n",
       "    </tbody>\n",
       "</table>"
      ],
      "text/plain": [
       "+----------------+-------------------------------------------------------------------------------------------------------------------------------------------------------------------------------------------+\n",
       "| formatted_date |                                                                                        description                                                                                        |\n",
       "+----------------+-------------------------------------------------------------------------------------------------------------------------------------------------------------------------------------------+\n",
       "|   2018-01-15   | Security footage shows that there were 2 witnesses. The first witness lives at the last house on \"Northwestern Dr\". The second witness, named Annabel, lives somewhere on \"Franklin Ave\". |\n",
       "+----------------+-------------------------------------------------------------------------------------------------------------------------------------------------------------------------------------------+"
      ]
     },
     "execution_count": 6,
     "metadata": {},
     "output_type": "execute_result"
    }
   ],
   "source": [
    "%%sql\n",
    "SELECT SUBSTR(DATE,1,4) || '-' ||\n",
    "SUBSTR(DATE,5,2) || '-' ||\n",
    "SUBSTR(DATE,7,2) AS formatted_date,\n",
    "description\n",
    "FROM crime_scene_report\n",
    "WHERE city='SQL City' AND\n",
    "type = 'murder' AND date(formatted_date) = '2018-01-15';"
   ]
  },
  {
   "cell_type": "markdown",
   "metadata": {},
   "source": [
    "## Searching the witness and seeing their testimonies"
   ]
  },
  {
   "cell_type": "code",
   "execution_count": 7,
   "metadata": {},
   "outputs": [
    {
     "data": {
      "text/html": [
       "<span style=\"None\">Running query in &#x27;sqlite:///data/sql-murder-mystery.db&#x27;</span>"
      ],
      "text/plain": [
       "Running query in 'sqlite:///data/sql-murder-mystery.db'"
      ]
     },
     "metadata": {},
     "output_type": "display_data"
    },
    {
     "data": {
      "text/html": [
       "<table>\n",
       "    <thead>\n",
       "        <tr>\n",
       "            <th>id</th>\n",
       "            <th>name</th>\n",
       "            <th>address_number</th>\n",
       "            <th>address_street_name</th>\n",
       "        </tr>\n",
       "    </thead>\n",
       "    <tbody>\n",
       "        <tr>\n",
       "            <td>14887</td>\n",
       "            <td>Morty Schapiro</td>\n",
       "            <td>4919</td>\n",
       "            <td>Northwestern Dr</td>\n",
       "        </tr>\n",
       "        <tr>\n",
       "            <td>16371</td>\n",
       "            <td>Annabel Miller</td>\n",
       "            <td>103</td>\n",
       "            <td>Franklin Ave</td>\n",
       "        </tr>\n",
       "    </tbody>\n",
       "</table>"
      ],
      "text/plain": [
       "+-------+----------------+----------------+---------------------+\n",
       "|   id  |      name      | address_number | address_street_name |\n",
       "+-------+----------------+----------------+---------------------+\n",
       "| 14887 | Morty Schapiro |      4919      |   Northwestern Dr   |\n",
       "| 16371 | Annabel Miller |      103       |     Franklin Ave    |\n",
       "+-------+----------------+----------------+---------------------+"
      ]
     },
     "execution_count": 7,
     "metadata": {},
     "output_type": "execute_result"
    }
   ],
   "source": [
    "%%sql\n",
    "SELECT id,\n",
    "name,\n",
    "address_number,\n",
    "address_street_name\n",
    "FROM person\n",
    "WHERE address_number = (SELECT MAX(address_number)\n",
    "                        FROM person\n",
    "                        WHERE address_street_name = 'Northwestern Dr') OR\n",
    "        (address_street_name = 'Franklin Ave' AND \n",
    "        name LIKE '%Annabel%');\n"
   ]
  },
  {
   "cell_type": "code",
   "execution_count": 8,
   "metadata": {},
   "outputs": [
    {
     "data": {
      "text/html": [
       "<span style=\"None\">Running query in &#x27;sqlite:///data/sql-murder-mystery.db&#x27;</span>"
      ],
      "text/plain": [
       "Running query in 'sqlite:///data/sql-murder-mystery.db'"
      ]
     },
     "metadata": {},
     "output_type": "display_data"
    },
    {
     "data": {
      "text/html": [
       "<table>\n",
       "    <thead>\n",
       "        <tr>\n",
       "            <th>person_id</th>\n",
       "            <th>name</th>\n",
       "            <th>transcript</th>\n",
       "        </tr>\n",
       "    </thead>\n",
       "    <tbody>\n",
       "        <tr>\n",
       "            <td>14887</td>\n",
       "            <td>Morty Schapiro</td>\n",
       "            <td>I heard a gunshot and then saw a man run out. He had a \"Get Fit Now Gym\" bag. The membership number on the bag started with \"48Z\". Only gold members have those bags. The man got into a car with a plate that included \"H42W\".</td>\n",
       "        </tr>\n",
       "        <tr>\n",
       "            <td>16371</td>\n",
       "            <td>Annabel Miller</td>\n",
       "            <td>I saw the murder happen, and I recognized the killer from my gym when I was working out last week on January the 9th.</td>\n",
       "        </tr>\n",
       "    </tbody>\n",
       "</table>"
      ],
      "text/plain": [
       "+-----------+----------------+---------------------------------------------------------------------------------------------------------------------------------------------------------------------------------------------------------------------------------+\n",
       "| person_id |      name      |                                                                                                            transcript                                                                                                           |\n",
       "+-----------+----------------+---------------------------------------------------------------------------------------------------------------------------------------------------------------------------------------------------------------------------------+\n",
       "|   14887   | Morty Schapiro | I heard a gunshot and then saw a man run out. He had a \"Get Fit Now Gym\" bag. The membership number on the bag started with \"48Z\". Only gold members have those bags. The man got into a car with a plate that included \"H42W\". |\n",
       "|   16371   | Annabel Miller |                                                      I saw the murder happen, and I recognized the killer from my gym when I was working out last week on January the 9th.                                                      |\n",
       "+-----------+----------------+---------------------------------------------------------------------------------------------------------------------------------------------------------------------------------------------------------------------------------+"
      ]
     },
     "execution_count": 8,
     "metadata": {},
     "output_type": "execute_result"
    }
   ],
   "source": [
    "%%sql\n",
    "SELECT person_id,\n",
    "p.name,\n",
    "transcript\n",
    "FROM interview\n",
    "INNER JOIN person AS P\n",
    "ON person_id = p.id\n",
    "WHERE person_id IN (14887,16371);\n"
   ]
  },
  {
   "cell_type": "markdown",
   "metadata": {},
   "source": [
    "# Creating a view for person details"
   ]
  },
  {
   "cell_type": "code",
   "execution_count": 9,
   "metadata": {},
   "outputs": [
    {
     "data": {
      "text/html": [
       "<span style=\"None\">Running query in &#x27;sqlite:///data/sql-murder-mystery.db&#x27;</span>"
      ],
      "text/plain": [
       "Running query in 'sqlite:///data/sql-murder-mystery.db'"
      ]
     },
     "metadata": {},
     "output_type": "display_data"
    },
    {
     "data": {
      "text/plain": []
     },
     "execution_count": 9,
     "metadata": {},
     "output_type": "execute_result"
    }
   ],
   "source": [
    "%%sql\n",
    "DROP VIEW IF EXISTS person_details;"
   ]
  },
  {
   "cell_type": "code",
   "execution_count": 10,
   "metadata": {},
   "outputs": [
    {
     "data": {
      "text/html": [
       "<span style=\"None\">Running query in &#x27;sqlite:///data/sql-murder-mystery.db&#x27;</span>"
      ],
      "text/plain": [
       "Running query in 'sqlite:///data/sql-murder-mystery.db'"
      ]
     },
     "metadata": {},
     "output_type": "display_data"
    },
    {
     "data": {
      "text/plain": []
     },
     "execution_count": 10,
     "metadata": {},
     "output_type": "execute_result"
    }
   ],
   "source": [
    "%%sql\n",
    "CREATE VIEW person_details AS\n",
    "    SELECT d.id AS driver_license,\n",
    "        p.id AS person_id,\n",
    "        p.name,\n",
    "        p.ssn,\n",
    "        d.age,\n",
    "        d.height,\n",
    "        d.eye_color,\n",
    "        d.hair_color,\n",
    "        d.gender,\n",
    "        d.car_make,\n",
    "        d.car_model,\n",
    "        d.plate_number,\n",
    "        p.address_number,\n",
    "        p.address_street_name,\n",
    "        i.annual_income\n",
    "    FROM drivers_license AS d \n",
    "    INNER JOIN person AS p\n",
    "    ON d.id = p.license_id\n",
    "    INNER JOIN income AS i\n",
    "    ON p.ssn=i.ssn"
   ]
  },
  {
   "cell_type": "markdown",
   "metadata": {},
   "source": [
    "# Query, using the testemonies, to get the murderer"
   ]
  },
  {
   "cell_type": "code",
   "execution_count": 11,
   "metadata": {},
   "outputs": [
    {
     "data": {
      "text/html": [
       "<span style=\"None\">Running query in &#x27;sqlite:///data/sql-murder-mystery.db&#x27;</span>"
      ],
      "text/plain": [
       "Running query in 'sqlite:///data/sql-murder-mystery.db'"
      ]
     },
     "metadata": {},
     "output_type": "display_data"
    },
    {
     "data": {
      "text/html": [
       "<table>\n",
       "    <thead>\n",
       "        <tr>\n",
       "            <th>person_id</th>\n",
       "            <th>name</th>\n",
       "            <th>driver_license</th>\n",
       "            <th>ssn</th>\n",
       "            <th>plate_number</th>\n",
       "            <th>membership_id</th>\n",
       "            <th>membership_status</th>\n",
       "            <th>date_of_second_witness</th>\n",
       "        </tr>\n",
       "    </thead>\n",
       "    <tbody>\n",
       "        <tr>\n",
       "            <td>67318</td>\n",
       "            <td>Jeremy Bowers</td>\n",
       "            <td>423327</td>\n",
       "            <td>871539279</td>\n",
       "            <td>0H42W2</td>\n",
       "            <td>48Z55</td>\n",
       "            <td>gold</td>\n",
       "            <td>2018-01-09</td>\n",
       "        </tr>\n",
       "    </tbody>\n",
       "</table>"
      ],
      "text/plain": [
       "+-----------+---------------+----------------+-----------+--------------+---------------+-------------------+------------------------+\n",
       "| person_id |      name     | driver_license |    ssn    | plate_number | membership_id | membership_status | date_of_second_witness |\n",
       "+-----------+---------------+----------------+-----------+--------------+---------------+-------------------+------------------------+\n",
       "|   67318   | Jeremy Bowers |     423327     | 871539279 |    0H42W2    |     48Z55     |        gold       |       2018-01-09       |\n",
       "+-----------+---------------+----------------+-----------+--------------+---------------+-------------------+------------------------+"
      ]
     },
     "execution_count": 11,
     "metadata": {},
     "output_type": "execute_result"
    }
   ],
   "source": [
    "%%sql\n",
    "WITH first_witness AS (\n",
    "    SELECT id AS membership_id,\n",
    "        person_id,\n",
    "        membership_status\n",
    "    FROM get_fit_now_member\n",
    "    WHERE id LIKE '48Z%' AND membership_status = 'gold'),\n",
    "    \n",
    "    second_witness AS (\n",
    "        SELECT membership_id,\n",
    "            m.name,\n",
    "            m.person_id,\n",
    "            SUBSTR(check_in_date,1,4) || '-' ||\n",
    "            SUBSTR(check_in_date,5,2) || '-' ||\n",
    "            SUBSTR(check_in_date,7,2) AS formatted_date,\n",
    "            check_in_time,\n",
    "            check_out_time\n",
    "        FROM get_fit_now_check_in\n",
    "        LEFT JOIN get_fit_now_member AS m\n",
    "        ON membership_id = m.id\n",
    "        WHERE formatted_date='2018-01-09')\n",
    "\n",
    "SELECT pd.person_id,\n",
    "    pd.name,\n",
    "    pd.driver_license,\n",
    "    pd.ssn,\n",
    "    pd.plate_number,\n",
    "    w1.membership_id,\n",
    "    w1.membership_status,\n",
    "    w2.formatted_date AS date_of_second_witness\n",
    "FROM person_details AS pd\n",
    "INNER JOIN first_witness AS w1\n",
    "ON pd.person_id = w1.person_id\n",
    "INNER JOIN second_witness AS w2\n",
    "ON pd.person_id = w2.person_id\n",
    "WHERE pd.plate_number LIKE '%H42W%';"
   ]
  },
  {
   "cell_type": "markdown",
   "metadata": {},
   "source": [
    "# The interview that the suspect gave"
   ]
  },
  {
   "cell_type": "code",
   "execution_count": 12,
   "metadata": {},
   "outputs": [
    {
     "data": {
      "text/html": [
       "<span style=\"None\">Running query in &#x27;sqlite:///data/sql-murder-mystery.db&#x27;</span>"
      ],
      "text/plain": [
       "Running query in 'sqlite:///data/sql-murder-mystery.db'"
      ]
     },
     "metadata": {},
     "output_type": "display_data"
    },
    {
     "data": {
      "text/html": [
       "<table>\n",
       "    <thead>\n",
       "        <tr>\n",
       "            <th>person_id</th>\n",
       "            <th>name</th>\n",
       "            <th>transcript</th>\n",
       "        </tr>\n",
       "    </thead>\n",
       "    <tbody>\n",
       "        <tr>\n",
       "            <td>67318</td>\n",
       "            <td>Jeremy Bowers</td>\n",
       "            <td>I was hired by a woman with a lot of money. I don't know her name but I know she's around 5'5\" (65\") or 5'7\" (67\"). She has red hair and she drives a Tesla Model S. I know that she attended the SQL Symphony Concert 3 times in December 2017.<br></td>\n",
       "        </tr>\n",
       "    </tbody>\n",
       "</table>"
      ],
      "text/plain": [
       "+-----------+---------------+--------------------------------------------------------------------------------------------------------------------------------------------------------------------------------------------------------------------------------------------------+\n",
       "| person_id |      name     |                                                                                                                    transcript                                                                                                                    |\n",
       "+-----------+---------------+--------------------------------------------------------------------------------------------------------------------------------------------------------------------------------------------------------------------------------------------------+\n",
       "|   67318   | Jeremy Bowers | I was hired by a woman with a lot of money. I don't know her name but I know she's around 5'5\" (65\") or 5'7\" (67\"). She has red hair and she drives a Tesla Model S. I know that she attended the SQL Symphony Concert 3 times in December 2017. |\n",
       "|           |               |                                                                                                                                                                                                                                                  |\n",
       "+-----------+---------------+--------------------------------------------------------------------------------------------------------------------------------------------------------------------------------------------------------------------------------------------------+"
      ]
     },
     "execution_count": 12,
     "metadata": {},
     "output_type": "execute_result"
    }
   ],
   "source": [
    "%%sql \n",
    "SELECT \n",
    "i.person_id,\n",
    "p.name,\n",
    "i.transcript\n",
    "FROM interview AS i\n",
    "INNER JOIN person AS p\n",
    "ON i.person_id = p.id\n",
    "WHERE person_id = 67318"
   ]
  },
  {
   "cell_type": "markdown",
   "metadata": {},
   "source": [
    "# The person behind the murder and their testemony(or the lack of)"
   ]
  },
  {
   "cell_type": "code",
   "execution_count": 13,
   "metadata": {},
   "outputs": [
    {
     "data": {
      "text/html": [
       "<span style=\"None\">Running query in &#x27;sqlite:///data/sql-murder-mystery.db&#x27;</span>"
      ],
      "text/plain": [
       "Running query in 'sqlite:///data/sql-murder-mystery.db'"
      ]
     },
     "metadata": {},
     "output_type": "display_data"
    },
    {
     "data": {
      "text/html": [
       "<table>\n",
       "    <thead>\n",
       "        <tr>\n",
       "            <th>driver_license</th>\n",
       "            <th>person_id</th>\n",
       "            <th>name</th>\n",
       "            <th>age</th>\n",
       "            <th>height</th>\n",
       "            <th>eye_color</th>\n",
       "            <th>hair_color</th>\n",
       "            <th>gender</th>\n",
       "            <th>car_make</th>\n",
       "            <th>car_model</th>\n",
       "            <th>plate_number</th>\n",
       "            <th>annual_income</th>\n",
       "            <th>event_name</th>\n",
       "            <th>times_in_2017_12</th>\n",
       "        </tr>\n",
       "    </thead>\n",
       "    <tbody>\n",
       "        <tr>\n",
       "            <td>202298</td>\n",
       "            <td>99716</td>\n",
       "            <td>Miranda Priestly</td>\n",
       "            <td>68</td>\n",
       "            <td>66</td>\n",
       "            <td>green</td>\n",
       "            <td>red</td>\n",
       "            <td>female</td>\n",
       "            <td>Tesla</td>\n",
       "            <td>Model S</td>\n",
       "            <td>500123</td>\n",
       "            <td>310000</td>\n",
       "            <td>SQL Symphony Concert</td>\n",
       "            <td>3</td>\n",
       "        </tr>\n",
       "    </tbody>\n",
       "</table>"
      ],
      "text/plain": [
       "+----------------+-----------+------------------+-----+--------+-----------+------------+--------+----------+-----------+--------------+---------------+----------------------+------------------+\n",
       "| driver_license | person_id |       name       | age | height | eye_color | hair_color | gender | car_make | car_model | plate_number | annual_income |      event_name      | times_in_2017_12 |\n",
       "+----------------+-----------+------------------+-----+--------+-----------+------------+--------+----------+-----------+--------------+---------------+----------------------+------------------+\n",
       "|     202298     |   99716   | Miranda Priestly |  68 |   66   |   green   |    red     | female |  Tesla   |  Model S  |    500123    |     310000    | SQL Symphony Concert |        3         |\n",
       "+----------------+-----------+------------------+-----+--------+-----------+------------+--------+----------+-----------+--------------+---------------+----------------------+------------------+"
      ]
     },
     "execution_count": 13,
     "metadata": {},
     "output_type": "execute_result"
    }
   ],
   "source": [
    "%%sql\n",
    "WITH suspect_confection_event AS (\n",
    "        SELECT person_id,\n",
    "        event_id,\n",
    "        event_name,\n",
    "        COUNT(person_id) AS times_in_2017_12\n",
    "        FROM facebook_event_checkin\n",
    "        WHERE event_name = 'SQL Symphony Concert' AND \n",
    "        (SUBSTR(date,1,4) = '2017') AND \n",
    "        (SUBSTR(date,5,2) = '12')\n",
    "        GROUP BY person_id,event_id,event_name\n",
    "        HAVING COUNT(person_id) = 3)\n",
    "SELECT\n",
    "    pd.driver_license,\n",
    "    pd.person_id,\n",
    "    pd.name,\n",
    "    pd.age,\n",
    "    pd.height,\n",
    "    pd.eye_color,\n",
    "    pd.hair_color,\n",
    "    pd.gender,\n",
    "    pd.car_make,\n",
    "    pd.car_model,\n",
    "    pd.plate_number,\n",
    "    pd.annual_income,\n",
    "    ws.event_name,\n",
    "    ws.times_in_2017_12\n",
    "FROM person_details AS pd\n",
    "INNER JOIN suspect_confection_event AS ws\n",
    "ON pd.person_id = ws.person_id\n",
    "WHERE (pd.height >= 65 AND pd.height <= 67) AND\n",
    "pd.gender = 'female' AND\n",
    "pd.hair_color = 'red' AND\n",
    "(pd.car_make = 'Tesla' AND pd.car_model = 'Model S')\n",
    ";"
   ]
  },
  {
   "cell_type": "code",
   "execution_count": 14,
   "metadata": {},
   "outputs": [
    {
     "data": {
      "text/html": [
       "<span style=\"None\">Running query in &#x27;sqlite:///data/sql-murder-mystery.db&#x27;</span>"
      ],
      "text/plain": [
       "Running query in 'sqlite:///data/sql-murder-mystery.db'"
      ]
     },
     "metadata": {},
     "output_type": "display_data"
    },
    {
     "data": {
      "text/html": [
       "<table>\n",
       "    <thead>\n",
       "        <tr>\n",
       "            <th>person_id</th>\n",
       "            <th>name</th>\n",
       "            <th>transcript</th>\n",
       "        </tr>\n",
       "    </thead>\n",
       "    <tbody>\n",
       "    </tbody>\n",
       "</table>"
      ],
      "text/plain": [
       "+-----------+------+------------+\n",
       "| person_id | name | transcript |\n",
       "+-----------+------+------------+\n",
       "+-----------+------+------------+"
      ]
     },
     "execution_count": 14,
     "metadata": {},
     "output_type": "execute_result"
    }
   ],
   "source": [
    "%%sql \n",
    "SELECT \n",
    "i.person_id,\n",
    "p.name,\n",
    "i.transcript\n",
    "FROM interview AS i\n",
    "INNER JOIN person AS p\n",
    "ON i.person_id = p.id\n",
    "WHERE person_id = 99716"
   ]
  },
  {
   "cell_type": "markdown",
   "metadata": {},
   "source": [
    "# Apendix - Context"
   ]
  },
  {
   "cell_type": "markdown",
   "metadata": {},
   "source": [
    "\n",
    "<img src=\"schema.png\"\n",
    "     alt=\"Schema\"\n",
    "     style=\"float: left; margin-right: 10px;\" />"
   ]
  },
  {
   "cell_type": "markdown",
   "metadata": {},
   "source": [
    "## Apendix - Queries and Views"
   ]
  },
  {
   "cell_type": "markdown",
   "metadata": {},
   "source": [
    "## Testemunies"
   ]
  },
  {
   "cell_type": "code",
   "execution_count": 15,
   "metadata": {},
   "outputs": [
    {
     "data": {
      "text/html": [
       "<span style=\"None\">Running query in &#x27;sqlite:///data/sql-murder-mystery.db&#x27;</span>"
      ],
      "text/plain": [
       "Running query in 'sqlite:///data/sql-murder-mystery.db'"
      ]
     },
     "metadata": {},
     "output_type": "display_data"
    },
    {
     "data": {
      "text/html": [
       "<table>\n",
       "    <thead>\n",
       "        <tr>\n",
       "            <th>membership_id</th>\n",
       "            <th>person_id</th>\n",
       "            <th>membership_status</th>\n",
       "        </tr>\n",
       "    </thead>\n",
       "    <tbody>\n",
       "        <tr>\n",
       "            <td>48Z7A</td>\n",
       "            <td>28819</td>\n",
       "            <td>gold</td>\n",
       "        </tr>\n",
       "        <tr>\n",
       "            <td>48Z55</td>\n",
       "            <td>67318</td>\n",
       "            <td>gold</td>\n",
       "        </tr>\n",
       "    </tbody>\n",
       "</table>"
      ],
      "text/plain": [
       "+---------------+-----------+-------------------+\n",
       "| membership_id | person_id | membership_status |\n",
       "+---------------+-----------+-------------------+\n",
       "|     48Z7A     |   28819   |        gold       |\n",
       "|     48Z55     |   67318   |        gold       |\n",
       "+---------------+-----------+-------------------+"
      ]
     },
     "execution_count": 15,
     "metadata": {},
     "output_type": "execute_result"
    }
   ],
   "source": [
    "%%sql\n",
    "-- First witness\n",
    "SELECT id AS membership_id,\n",
    "    person_id,\n",
    "    membership_status\n",
    "FROM get_fit_now_member\n",
    "WHERE id LIKE '48Z%' AND membership_status = 'gold'"
   ]
  },
  {
   "cell_type": "code",
   "execution_count": 16,
   "metadata": {},
   "outputs": [
    {
     "data": {
      "text/html": [
       "<span style=\"None\">Running query in &#x27;sqlite:///data/sql-murder-mystery.db&#x27;</span>"
      ],
      "text/plain": [
       "Running query in 'sqlite:///data/sql-murder-mystery.db'"
      ]
     },
     "metadata": {},
     "output_type": "display_data"
    },
    {
     "data": {
      "text/html": [
       "<table>\n",
       "    <thead>\n",
       "        <tr>\n",
       "            <th>membership_id</th>\n",
       "            <th>name</th>\n",
       "            <th>person_id</th>\n",
       "            <th>formatted_date</th>\n",
       "            <th>check_in_time</th>\n",
       "            <th>check_out_time</th>\n",
       "        </tr>\n",
       "    </thead>\n",
       "    <tbody>\n",
       "        <tr>\n",
       "            <td>X0643</td>\n",
       "            <td>Shondra Ledlow</td>\n",
       "            <td>15247</td>\n",
       "            <td>2018-01-09</td>\n",
       "            <td>957</td>\n",
       "            <td>1164</td>\n",
       "        </tr>\n",
       "        <tr>\n",
       "            <td>UK1F2</td>\n",
       "            <td>Zackary Cabotage</td>\n",
       "            <td>28073</td>\n",
       "            <td>2018-01-09</td>\n",
       "            <td>344</td>\n",
       "            <td>518</td>\n",
       "        </tr>\n",
       "        <tr>\n",
       "            <td>XTE42</td>\n",
       "            <td>Sarita Bartosh</td>\n",
       "            <td>55662</td>\n",
       "            <td>2018-01-09</td>\n",
       "            <td>486</td>\n",
       "            <td>1124</td>\n",
       "        </tr>\n",
       "        <tr>\n",
       "            <td>1AE2H</td>\n",
       "            <td>Adriane Pelligra</td>\n",
       "            <td>10815</td>\n",
       "            <td>2018-01-09</td>\n",
       "            <td>461</td>\n",
       "            <td>944</td>\n",
       "        </tr>\n",
       "        <tr>\n",
       "            <td>6LSTG</td>\n",
       "            <td>Burton Grippe</td>\n",
       "            <td>83186</td>\n",
       "            <td>2018-01-09</td>\n",
       "            <td>399</td>\n",
       "            <td>515</td>\n",
       "        </tr>\n",
       "        <tr>\n",
       "            <td>7MWHJ</td>\n",
       "            <td>Blossom Crescenzo</td>\n",
       "            <td>31523</td>\n",
       "            <td>2018-01-09</td>\n",
       "            <td>273</td>\n",
       "            <td>885</td>\n",
       "        </tr>\n",
       "        <tr>\n",
       "            <td>GE5Q8</td>\n",
       "            <td>Carmen Dimick</td>\n",
       "            <td>92736</td>\n",
       "            <td>2018-01-09</td>\n",
       "            <td>367</td>\n",
       "            <td>959</td>\n",
       "        </tr>\n",
       "        <tr>\n",
       "            <td>48Z7A</td>\n",
       "            <td>Joe Germuska</td>\n",
       "            <td>28819</td>\n",
       "            <td>2018-01-09</td>\n",
       "            <td>1600</td>\n",
       "            <td>1730</td>\n",
       "        </tr>\n",
       "        <tr>\n",
       "            <td>48Z55</td>\n",
       "            <td>Jeremy Bowers</td>\n",
       "            <td>67318</td>\n",
       "            <td>2018-01-09</td>\n",
       "            <td>1530</td>\n",
       "            <td>1700</td>\n",
       "        </tr>\n",
       "        <tr>\n",
       "            <td>90081</td>\n",
       "            <td>Annabel Miller</td>\n",
       "            <td>16371</td>\n",
       "            <td>2018-01-09</td>\n",
       "            <td>1600</td>\n",
       "            <td>1700</td>\n",
       "        </tr>\n",
       "    </tbody>\n",
       "</table>"
      ],
      "text/plain": [
       "+---------------+-------------------+-----------+----------------+---------------+----------------+\n",
       "| membership_id |        name       | person_id | formatted_date | check_in_time | check_out_time |\n",
       "+---------------+-------------------+-----------+----------------+---------------+----------------+\n",
       "|     X0643     |   Shondra Ledlow  |   15247   |   2018-01-09   |      957      |      1164      |\n",
       "|     UK1F2     |  Zackary Cabotage |   28073   |   2018-01-09   |      344      |      518       |\n",
       "|     XTE42     |   Sarita Bartosh  |   55662   |   2018-01-09   |      486      |      1124      |\n",
       "|     1AE2H     |  Adriane Pelligra |   10815   |   2018-01-09   |      461      |      944       |\n",
       "|     6LSTG     |   Burton Grippe   |   83186   |   2018-01-09   |      399      |      515       |\n",
       "|     7MWHJ     | Blossom Crescenzo |   31523   |   2018-01-09   |      273      |      885       |\n",
       "|     GE5Q8     |   Carmen Dimick   |   92736   |   2018-01-09   |      367      |      959       |\n",
       "|     48Z7A     |    Joe Germuska   |   28819   |   2018-01-09   |      1600     |      1730      |\n",
       "|     48Z55     |   Jeremy Bowers   |   67318   |   2018-01-09   |      1530     |      1700      |\n",
       "|     90081     |   Annabel Miller  |   16371   |   2018-01-09   |      1600     |      1700      |\n",
       "+---------------+-------------------+-----------+----------------+---------------+----------------+"
      ]
     },
     "execution_count": 16,
     "metadata": {},
     "output_type": "execute_result"
    }
   ],
   "source": [
    "%%sql\n",
    "-- Second witness\n",
    "SELECT membership_id,\n",
    "    m.name,\n",
    "    m.person_id,\n",
    "    SUBSTR(check_in_date,1,4) || '-' ||\n",
    "    SUBSTR(check_in_date,5,2) || '-' ||\n",
    "    SUBSTR(check_in_date,7,2) AS formatted_date,\n",
    "    check_in_time,\n",
    "    check_out_time\n",
    "FROM get_fit_now_check_in\n",
    "LEFT JOIN get_fit_now_member AS m\n",
    "ON membership_id = m.id\n",
    "WHERE formatted_date='2018-01-09'\n"
   ]
  },
  {
   "cell_type": "markdown",
   "metadata": {},
   "source": [
    "### View created"
   ]
  },
  {
   "cell_type": "code",
   "execution_count": 17,
   "metadata": {},
   "outputs": [
    {
     "data": {
      "text/html": [
       "<span style=\"None\">Running query in &#x27;sqlite:///data/sql-murder-mystery.db&#x27;</span>"
      ],
      "text/plain": [
       "Running query in 'sqlite:///data/sql-murder-mystery.db'"
      ]
     },
     "metadata": {},
     "output_type": "display_data"
    },
    {
     "data": {
      "text/html": [
       "<table>\n",
       "    <thead>\n",
       "        <tr>\n",
       "            <th>driver_license</th>\n",
       "            <th>person_id</th>\n",
       "            <th>name</th>\n",
       "            <th>ssn</th>\n",
       "            <th>age</th>\n",
       "            <th>height</th>\n",
       "            <th>eye_color</th>\n",
       "            <th>hair_color</th>\n",
       "            <th>gender</th>\n",
       "            <th>car_make</th>\n",
       "            <th>car_model</th>\n",
       "            <th>plate_number</th>\n",
       "            <th>address_number</th>\n",
       "            <th>address_street_name</th>\n",
       "            <th>annual_income</th>\n",
       "        </tr>\n",
       "    </thead>\n",
       "    <tbody>\n",
       "        <tr>\n",
       "            <td>993845</td>\n",
       "            <td>10000</td>\n",
       "            <td>Christoper Peteuil</td>\n",
       "            <td>747714076</td>\n",
       "            <td>46</td>\n",
       "            <td>59</td>\n",
       "            <td>black</td>\n",
       "            <td>green</td>\n",
       "            <td>male</td>\n",
       "            <td>Chrysler</td>\n",
       "            <td>Town & Country</td>\n",
       "            <td>557472</td>\n",
       "            <td>624</td>\n",
       "            <td>Bankhall Ave</td>\n",
       "            <td>31000</td>\n",
       "        </tr>\n",
       "        <tr>\n",
       "            <td>861794</td>\n",
       "            <td>10007</td>\n",
       "            <td>Kourtney Calderwood</td>\n",
       "            <td>477972044</td>\n",
       "            <td>54</td>\n",
       "            <td>74</td>\n",
       "            <td>black</td>\n",
       "            <td>white</td>\n",
       "            <td>female</td>\n",
       "            <td>BMW</td>\n",
       "            <td>M Roadster</td>\n",
       "            <td>3P6DMS</td>\n",
       "            <td>2791</td>\n",
       "            <td>Gustavus Blvd</td>\n",
       "            <td>24000</td>\n",
       "        </tr>\n",
       "        <tr>\n",
       "            <td>385336</td>\n",
       "            <td>10010</td>\n",
       "            <td>Muoi Cary</td>\n",
       "            <td>828638512</td>\n",
       "            <td>24</td>\n",
       "            <td>79</td>\n",
       "            <td>blue</td>\n",
       "            <td>green</td>\n",
       "            <td>female</td>\n",
       "            <td>Mercedes-Benz</td>\n",
       "            <td>CLS-Class</td>\n",
       "            <td>GM6Y5J</td>\n",
       "            <td>741</td>\n",
       "            <td>Northwestern Dr</td>\n",
       "            <td>14800</td>\n",
       "        </tr>\n",
       "        <tr>\n",
       "            <td>431897</td>\n",
       "            <td>10016</td>\n",
       "            <td>Era Moselle</td>\n",
       "            <td>614621061</td>\n",
       "            <td>22</td>\n",
       "            <td>75</td>\n",
       "            <td>amber</td>\n",
       "            <td>red</td>\n",
       "            <td>female</td>\n",
       "            <td>Ford</td>\n",
       "            <td>Ranger</td>\n",
       "            <td>461S1M</td>\n",
       "            <td>1987</td>\n",
       "            <td>Wood Glade St</td>\n",
       "            <td>47400</td>\n",
       "        </tr>\n",
       "        <tr>\n",
       "            <td>439509</td>\n",
       "            <td>10027</td>\n",
       "            <td>Antione Godbolt</td>\n",
       "            <td>491650087</td>\n",
       "            <td>56</td>\n",
       "            <td>72</td>\n",
       "            <td>blue</td>\n",
       "            <td>blue</td>\n",
       "            <td>male</td>\n",
       "            <td>Honda</td>\n",
       "            <td>Civic</td>\n",
       "            <td>35S8LN</td>\n",
       "            <td>2431</td>\n",
       "            <td>Zelham Dr</td>\n",
       "            <td>79300</td>\n",
       "        </tr>\n",
       "        <tr>\n",
       "            <td>920494</td>\n",
       "            <td>10034</td>\n",
       "            <td>Kyra Buen</td>\n",
       "            <td>332497972</td>\n",
       "            <td>56</td>\n",
       "            <td>69</td>\n",
       "            <td>blue</td>\n",
       "            <td>grey</td>\n",
       "            <td>female</td>\n",
       "            <td>Infiniti</td>\n",
       "            <td>G</td>\n",
       "            <td>6K774M</td>\n",
       "            <td>1873</td>\n",
       "            <td>Sleigh Dr</td>\n",
       "            <td>21700</td>\n",
       "        </tr>\n",
       "        <tr>\n",
       "            <td>278151</td>\n",
       "            <td>10039</td>\n",
       "            <td>Francesco Agundez</td>\n",
       "            <td>861079251</td>\n",
       "            <td>87</td>\n",
       "            <td>54</td>\n",
       "            <td>black</td>\n",
       "            <td>blue</td>\n",
       "            <td>male</td>\n",
       "            <td>Pontiac</td>\n",
       "            <td>Grand Am</td>\n",
       "            <td>0F3B3Z</td>\n",
       "            <td>736</td>\n",
       "            <td>Buswell Dr</td>\n",
       "            <td>22500</td>\n",
       "        </tr>\n",
       "        <tr>\n",
       "            <td>779002</td>\n",
       "            <td>10122</td>\n",
       "            <td>Alva Conkel</td>\n",
       "            <td>148521773</td>\n",
       "            <td>52</td>\n",
       "            <td>64</td>\n",
       "            <td>black</td>\n",
       "            <td>blue</td>\n",
       "            <td>male</td>\n",
       "            <td>Lotus</td>\n",
       "            <td>Exige</td>\n",
       "            <td>8OLS80</td>\n",
       "            <td>116</td>\n",
       "            <td>Diversey Circle</td>\n",
       "            <td>28700</td>\n",
       "        </tr>\n",
       "        <tr>\n",
       "            <td>449378</td>\n",
       "            <td>10127</td>\n",
       "            <td>Yessenia Fossen</td>\n",
       "            <td>314282107</td>\n",
       "            <td>48</td>\n",
       "            <td>64</td>\n",
       "            <td>blue</td>\n",
       "            <td>blonde</td>\n",
       "            <td>female</td>\n",
       "            <td>Ford</td>\n",
       "            <td>Escort</td>\n",
       "            <td>XBO1R0</td>\n",
       "            <td>3087</td>\n",
       "            <td>Ash St</td>\n",
       "            <td>21400</td>\n",
       "        </tr>\n",
       "        <tr>\n",
       "            <td>627292</td>\n",
       "            <td>10141</td>\n",
       "            <td>Brittney Garfield</td>\n",
       "            <td>914555313</td>\n",
       "            <td>64</td>\n",
       "            <td>64</td>\n",
       "            <td>amber</td>\n",
       "            <td>brown</td>\n",
       "            <td>female</td>\n",
       "            <td>Lincoln</td>\n",
       "            <td>Navigator</td>\n",
       "            <td>4LXD5F</td>\n",
       "            <td>2303</td>\n",
       "            <td>E Glen Park Ave</td>\n",
       "            <td>67600</td>\n",
       "        </tr>\n",
       "    </tbody>\n",
       "</table>"
      ],
      "text/plain": [
       "+----------------+-----------+---------------------+-----------+-----+--------+-----------+------------+--------+---------------+----------------+--------------+----------------+---------------------+---------------+\n",
       "| driver_license | person_id |         name        |    ssn    | age | height | eye_color | hair_color | gender |    car_make   |   car_model    | plate_number | address_number | address_street_name | annual_income |\n",
       "+----------------+-----------+---------------------+-----------+-----+--------+-----------+------------+--------+---------------+----------------+--------------+----------------+---------------------+---------------+\n",
       "|     993845     |   10000   |  Christoper Peteuil | 747714076 |  46 |   59   |   black   |   green    |  male  |    Chrysler   | Town & Country |    557472    |      624       |     Bankhall Ave    |     31000     |\n",
       "|     861794     |   10007   | Kourtney Calderwood | 477972044 |  54 |   74   |   black   |   white    | female |      BMW      |   M Roadster   |    3P6DMS    |      2791      |    Gustavus Blvd    |     24000     |\n",
       "|     385336     |   10010   |      Muoi Cary      | 828638512 |  24 |   79   |    blue   |   green    | female | Mercedes-Benz |   CLS-Class    |    GM6Y5J    |      741       |   Northwestern Dr   |     14800     |\n",
       "|     431897     |   10016   |     Era Moselle     | 614621061 |  22 |   75   |   amber   |    red     | female |      Ford     |     Ranger     |    461S1M    |      1987      |    Wood Glade St    |     47400     |\n",
       "|     439509     |   10027   |   Antione Godbolt   | 491650087 |  56 |   72   |    blue   |    blue    |  male  |     Honda     |     Civic      |    35S8LN    |      2431      |      Zelham Dr      |     79300     |\n",
       "|     920494     |   10034   |      Kyra Buen      | 332497972 |  56 |   69   |    blue   |    grey    | female |    Infiniti   |       G        |    6K774M    |      1873      |      Sleigh Dr      |     21700     |\n",
       "|     278151     |   10039   |  Francesco Agundez  | 861079251 |  87 |   54   |   black   |    blue    |  male  |    Pontiac    |    Grand Am    |    0F3B3Z    |      736       |      Buswell Dr     |     22500     |\n",
       "|     779002     |   10122   |     Alva Conkel     | 148521773 |  52 |   64   |   black   |    blue    |  male  |     Lotus     |     Exige      |    8OLS80    |      116       |   Diversey Circle   |     28700     |\n",
       "|     449378     |   10127   |   Yessenia Fossen   | 314282107 |  48 |   64   |    blue   |   blonde   | female |      Ford     |     Escort     |    XBO1R0    |      3087      |        Ash St       |     21400     |\n",
       "|     627292     |   10141   |  Brittney Garfield  | 914555313 |  64 |   64   |   amber   |   brown    | female |    Lincoln    |   Navigator    |    4LXD5F    |      2303      |   E Glen Park Ave   |     67600     |\n",
       "+----------------+-----------+---------------------+-----------+-----+--------+-----------+------------+--------+---------------+----------------+--------------+----------------+---------------------+---------------+"
      ]
     },
     "execution_count": 17,
     "metadata": {},
     "output_type": "execute_result"
    }
   ],
   "source": [
    "%%sql\n",
    "SELECT *\n",
    "FROM person_details\n",
    "LIMIT 10;\n"
   ]
  }
 ],
 "metadata": {
  "kernelspec": {
   "display_name": "Python 3",
   "language": "python",
   "name": "python3"
  },
  "language_info": {
   "codemirror_mode": {
    "name": "ipython",
    "version": 3
   },
   "file_extension": ".py",
   "mimetype": "text/x-python",
   "name": "python",
   "nbconvert_exporter": "python",
   "pygments_lexer": "ipython3",
   "version": "3.8.10"
  }
 },
 "nbformat": 4,
 "nbformat_minor": 4
}
